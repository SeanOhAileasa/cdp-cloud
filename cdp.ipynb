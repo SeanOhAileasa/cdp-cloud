{
 "cells": [
  {
   "cell_type": "markdown",
   "id": "d4ee9e4b",
   "metadata": {},
   "source": [
    "***\n",
    "< [Home](https://github.com/SeanOhAileasa) | [README](https://github.com/SeanOhAileasa/cdp-cloud/blob/main/README.md) >\n",
    "\n",
    "## CompTIA Cloud+ - Course Material 2022\n",
    "###### Topic: ``Cloud+``\n",
    "***"
   ]
  },
  {
   "cell_type": "markdown",
   "id": "e7228f57",
   "metadata": {},
   "source": [
    "<a id=\"top\"></a>\n",
    "***\n",
    "## Table of Contents\n",
    "***"
   ]
  },
  {
   "cell_type": "markdown",
   "id": "c2bb5e7b",
   "metadata": {},
   "source": [
    "### Practice Questions\n",
    "***\n",
    "\n",
    "- [Understanding Cloud Concepts](#1) &#x2705; "
   ]
  },
  {
   "cell_type": "markdown",
   "id": "bf2b95e2",
   "metadata": {},
   "source": [
    "***\n",
    "## END"
   ]
  },
  {
   "cell_type": "markdown",
   "id": "2769abbf",
   "metadata": {},
   "source": [
    "< [Table of Contents](#top) | [References](#references) >\n",
    "<a id=\"1\"></a>\n",
    "***\n",
    "###### Understanding Cloud Concepts\n",
    "***"
   ]
  },
  {
   "cell_type": "markdown",
   "id": "509a4f81",
   "metadata": {},
   "source": [
    "> A company is installing a web-based file sharing application to help transition its in-office departments to a primarily remote setup. What type of solution is the company installing?\n",
    "\n",
    "- SaaS\n",
    "\n",
    "PaaS\n",
    "\n",
    "IaaS\n",
    "\n",
    "STaaS\n",
    "\n",
    "***\n",
    "\n",
    "Software as a Service (SaaS) has access to the software, but the vendor maintains the installation, maintenance, patching, and upgrade responsibilities.\n",
    "\n",
    "With Platform as a Service (PaaS), the service provider supplies the databases or development environments for the consumer to maintain, often through application development and day-to-day management.\n",
    "\n",
    "With Infrastructure as a Service (IaaS), consumers install and maintain OSs and applications on that hardware without absorbing the cost of hardware support. The CSP provides this support.\n",
    "\n",
    "Storage as a Service (STaaS) provides scalable and less expensive storage solutions that may reduce the amount of on-premises storage required. "
   ]
  },
  {
   "cell_type": "markdown",
   "id": "0ac2f9ad",
   "metadata": {},
   "source": [
    "> A government agency wants to deploy an open-source platform to have complete control over the platform and become a CSP. What type of cloud deployment would meet the agency’s needs?\n",
    "\n",
    "- Multitenancy\n",
    "\n",
    "Virtual private cloud\n",
    "\n",
    "Hybrid cloud\n",
    "\n",
    "Public cloud\n",
    "\n",
    "***\n",
    "\n",
    "A multitenancy cloud platform has multiple consumers, known as tenants, who share computing resources owned and managed by the cloud service provider (CSP). The government agency can deploy an open-source cloud platform, for example, to have complete control over the platform and become a CSP.\n",
    "\n",
    "A virtual private cloud (VPC) is the concept of cloud within a cloud where a public CSP hosts your organization’s cloud services in an isolated segment.\n",
    "\n",
    "A hybrid cloud deployment is any combination of a community, private, or public cloud. For example, an organization can use an on-premises and public cloud platform.\n",
    "\n",
    "Major cloud CSPs such as Amazon Web Services (AWS) is a public cloud platform that offers public cloud services."
   ]
  },
  {
   "cell_type": "markdown",
   "id": "e9b92287",
   "metadata": {},
   "source": [
    "> An IT support manager for a small company needs to provide some basic functions for their company but is running minimal staff with limited skills. Which of the following solutions would be applicable solutions? (Select all that apply.)\n",
    "\n",
    "- SaaS\n",
    "\n",
    "PaaS\n",
    "\n",
    "- MSPs\n",
    "\n",
    "IaaS\n",
    "\n",
    "***\n",
    "\n",
    "With Software as a Service (SaaS), responsibility for the hardware where that software runs, the operating system upon which it runs, and the installation and patching of the software itself are all offloaded to the Cloud Service Provider (CSP).\n",
    "\n",
    "Managed Service Providers (MSPs) are independent of the CSP. Your organization may choose to outsource cloud design, migration, deployment, and management solutions to these companies, relying on their expertise and experience.\n",
    "\n",
    "With Platform as a Service (PaaS), it is up to the consumer to populate that structure, manage it on a day-to-day basis, and assume responsibility for the content.\n",
    "\n",
    "With Infrastructure as a Service (IaaS), the consumer assumes responsibility for all layers above that hardware."
   ]
  },
  {
   "cell_type": "markdown",
   "id": "47c6c57f",
   "metadata": {},
   "source": [
    "> A real estate accounting company would like to migrate its operation to the cloud but has expressed reservations regarding security. A member of the executive suite suggests a collective organization formed in conjunction with several similar companies that have collectively deployed a cloud-based environment. Each member company maintains cloud access. Which of the following is the executive describing?\n",
    "\n",
    "Private\n",
    "\n",
    "- Community\n",
    "\n",
    "Hybrid\n",
    "\n",
    "Public\n",
    "\n",
    "***\n",
    "\n",
    "Community clouds are owned and maintained by several organizations, with the cumulative resources available to each participating organization. This model leverages the cost savings of having several organizations support the datacenter and provides increased security.\n",
    "\n",
    "Private clouds consist of datacenters that provide services to be owned and managed exclusively by a particular organization. Private clouds are both more secure and more expensive.\n",
    "\n",
    "Hybrid clouds pull varying elements of different cloud models. Organizations may store private or more sensitive data in a private cloud but deploy a public cloud for customer services.\n",
    "\n",
    "Public clouds consist of datacenters owned and maintained by third-party service providers. Resources are made available to all customers, with resources allocated dynamically as needed. "
   ]
  },
  {
   "cell_type": "markdown",
   "id": "e58971f6",
   "metadata": {},
   "source": [
    "> What process controls the access to resources on a cloud platform?\n",
    "\n",
    "Provisioning\n",
    "\n",
    "- Identity management\n",
    "\n",
    "Subscription\n",
    "\n",
    "Containerization\n",
    "\n",
    "\n",
    "***\n",
    "\n",
    "Identity management is the process by which identities are established, and access to resources is controlled. Users are assigned an account and are assigned rights and restrictions enforced by access control systems such as permissions.\n",
    "\n",
    "Provisioning is a process by which cloud services or resources are deployed or allocated in the overall enterprise infrastructure. Objectives, policies, and procedures govern it.\n",
    "\n",
    "Subscription is the process by which a user can use a cloud service like Microsoft Office 365, for example. Subscription services can be long- or short-term.\n",
    "\n",
    "Containerization is a process by which applications and their dependencies are virtualized at the operating system (OS) layer rather than the hardware layer."
   ]
  },
  {
   "cell_type": "markdown",
   "id": "edef6a21",
   "metadata": {},
   "source": [
    "> A finance company would like to implement a customer relationship management solution that provides flexible resource utilization while maintaining the best possible security for client PII. Which of the following options would protect that segment of data while remaining cost-conscious?\n",
    "\n",
    "- Hybrid\n",
    "\n",
    "On-premise\n",
    "\n",
    "Private\n",
    "\n",
    "Public\n",
    "\n",
    "\n",
    "***\n",
    "\n",
    "Hybrid clouds pull varying elements of different cloud models. Organizations may store private or more sensitive data in a private cloud but deploy a public cloud for customer services, as would be the case here.\n",
    "\n",
    "The organization both fully controls and funds on-premise deployments. This offers the most control but would probably not be feasible to a smaller, growing organization.\n",
    "\n",
    "Private clouds consist of datacenters that provide services to be owned and managed exclusively by a particular organization. Private clouds are both more secure and more expensive.\n",
    "\n",
    "Public clouds consist of datacenters owned and maintained by third-party service providers. Resources are made available to all customers, with resources allocated dynamically as needed. "
   ]
  },
  {
   "cell_type": "markdown",
   "id": "df65cf0d",
   "metadata": {},
   "source": [
    "> A software development company has asked its lead administrator to suggest a means of simplifying asset management and reducing the overhead from maintaining a large fleet of servers. The company currently stores massive amounts of data and would like a solution that will allow this continued mass storage, while reducing the number of physical servers. Which of the following makes the most sense for the company to implement?\n",
    "\n",
    "Acquire new servers\n",
    "\n",
    "Upgrade SaaS package\n",
    "\n",
    "- Employ a FaaS solution\n",
    "\n",
    "Utilize ML to manage the storage\n",
    "\n",
    "\n",
    "***\n",
    "\n",
    "Function as a Service (FaaS) or serverless computing, offloads capacity planning, hardware, OS, and web server management tasks to the CSP. Examples include certain Azure functions and the Google Cloud App Engine.\n",
    "\n",
    "New servers would not alleviate the burden of housing and managing an already large server fleet, as the company wants to reduce its on-premise hardware.\n",
    "\n",
    "Software as a Service (SaaS) might remain important for certain business functions, however, improving software would not allow the company to start eliminating its servers. The storage still requires managing.\n",
    "\n",
    "Machine Learning (ML) is a component of artificial intelligence (AI). Its goal is to make accurate predictions by extracting data based on learned information and experience. It is not a hardware reduction mechanism."
   ]
  },
  {
   "cell_type": "markdown",
   "id": "170c5afc",
   "metadata": {},
   "source": [
    "> A server administrator is architecting a cloud-based solution for a company with various development projects and application dependencies. Which of the following solutions would be most applicable?\n",
    "\n",
    "- Containers\n",
    "\n",
    "Templates\n",
    "\n",
    "Virtual machines\n",
    "\n",
    "Provisioning\n",
    "\n",
    "\n",
    "***\n",
    "\n",
    "Containers virtualize at the OS layer rather than the hardware layer. A container holds a single application and everything it needs to run.\n",
    "\n",
    "VM Templates reduce the confusion, misconfiguration, and cost associated with manually created VMs by providing standardized VM configurations.\n",
    "\n",
    "Virtualization allocates hardware resources among one or more VMs. The VMs then have an operating system and one or more applications installed on them.\n",
    "\n",
    "Provisioning is one of several steps in the cloud services deployment process. The term refers to the allocation of cloud resources in the overall enterprise infrastructure. "
   ]
  },
  {
   "cell_type": "markdown",
   "id": "8d4a987f",
   "metadata": {},
   "source": [
    "> Concerning cloud security in the IaaS model, which of the following are the responsibility of the customer? (Select all that apply.)\n",
    "\n",
    "- Operating system\n",
    "\n",
    "\n",
    "- Identity management\n",
    "\n",
    "Storage\n",
    "\n",
    "Networking\n",
    "\n",
    "\n",
    "***\n",
    "\n",
    "Operating system management responsibilities lie with the organization, as operating systems manage computer hardware, resources, and services for computer programs.\n",
    "\n",
    "Identity management is the process on an organizational level designed to ensure individuals have the appropriate access to technology resources and assets.\n",
    "\n",
    "In this case, storage refers to being \"of\" the cloud as opposed to \"in\" the cloud. As such, service providers manage storage quantities and services.\n",
    "\n",
    "Networking defines the space that controls and permits communication between devices. Like storage, networking responsibilities fall under the CSPs. Data encryption and networking security, however, fall under the customer."
   ]
  },
  {
   "cell_type": "markdown",
   "id": "74719058",
   "metadata": {},
   "source": [
    "> A tier 1 support technician has been holding a support ticket for a system problem for an hour and has only identified the problem. Company policy requires tier 1 support tickets to escalate after an hour if the technician cannot resolve the problem. After escalating the ticket, what would the tier 2 technician do next?\n",
    "\n",
    "Perform a root cause analysis.\n",
    "\n",
    "Verify the system is functional.\n",
    "\n",
    "Establish another theory of probable cause.\n",
    "\n",
    "- Determine the scope of the problem.\n",
    "\n",
    "\n",
    "***\n",
    "\n",
    "Determine the scope of the problem after identifying it. Figure out if the problem affects one user or many, one system or others. This information will help establish a theory of probable cause.\n",
    "\n",
    "Performing a root cause analysis is the final step before closing a support ticket. Identifying the root cause may permit you to avoid the problem in the future by changing processes or by implementing different technologies.\n",
    "\n",
    "Verify the system is fully functional after implementing a solution. Determine the goal if the system has returned to the normal service levels.\n",
    "\n",
    "Establish another or secondary theory of probable cause only after the first theory fails or cannot be confirmed."
   ]
  },
  {
   "cell_type": "markdown",
   "id": "8dc011c3",
   "metadata": {},
   "source": [
    "> A single user is having trouble downloading files from the CSP's server. The download fails with a message stating the files were blocked. Frustrated, the user claims that resolving this matter falls on the CSP. Which of the following best represents who should resolve this incident?\n",
    "\n",
    "The CSP\n",
    "\n",
    "- The user\n",
    "\n",
    "The ISP\n",
    "\n",
    "The server\n",
    "\n",
    "\n",
    "***\n",
    "\n",
    "The issue likely represents a problem with the local firewall, preventing the user from gaining access to the download. The user should look to internal assistance within the organization to resolve the problem.\n",
    "\n",
    "As this most likely stems from a local network issue, the CSP would ultimately not be responsible for the user being unable to access the data on the CSP's server.\n",
    "\n",
    "The internet service provider (ISP) would not be responsible for local network issues. As the user can connect to the internet, the ISP is not part of the solution.\n",
    "\n",
    "Since other team members have maintained server access, it is unlikely that the root of the problem involves the server."
   ]
  },
  {
   "cell_type": "markdown",
   "id": "cc1ce720",
   "metadata": {},
   "source": [
    "> A user submitted a support ticket stating that their team is unable to access shared folders. When troubleshooting the issue, which of the following would be examples of identifying the problem rather than its scope? (Select all that apply.)\n",
    "\n",
    "- The virtual host lost connection to network storage.\n",
    "\n",
    "Cloud web servers also cannot load data.\n",
    "\n",
    "All users are unable to access file shares.\n",
    "\n",
    "- The virtual machine is powered off.\n",
    "\n",
    "\n",
    "***\n",
    "\n",
    "Understanding that users cannot access shared folders because a virtual host lost connectivity to a network storage is an example of identifying the problem. If the storage hosted files, but is unavailable, then users will not be able to access the share folders.\n",
    "\n",
    "Understanding that users cannot access shared folders because a virtual machine (VM) is powered off, is an example of identifying the problem. No VM to run file services, no access to shared folders.\n",
    "\n",
    "Understanding that web servers are also affected in this case is an example of identifying the scope of the problem.\n",
    "\n",
    "Understanding that the problem affects all users, rather than some, is an example of identifying the scope of the problem."
   ]
  },
  {
   "cell_type": "markdown",
   "id": "49737297",
   "metadata": {},
   "source": [
    "> An IT technician had to resolve an issue that was supposedly resolved by another technician a week earlier. The cause of the issue was documented a week ago. What could the previous technician have done differently to troubleshoot the issue?\n",
    "\n",
    "Take notes while troubleshooting.\n",
    "\n",
    "Verify full system functionality.\n",
    "\n",
    "- Implement preventive measures.\n",
    "\n",
    "Perform a root cause analysis.\n",
    "\n",
    "\n",
    "***\n",
    "\n",
    "Implement preventive measures by, for example, preemptively reconfiguring other services or network devices to avoid a repeat of the problem. Adding new technologies may help to prevent recurrences.\n",
    "\n",
    "Documentation and note taking should be maintained throughout a service’s lifecycle, including during the troubleshooting process. Documentation does not prevent recurrence.\n",
    "\n",
    "The previous technician did verify that the system was functional because the issue was resolved a week ago. The current issue is a recurrence of the previous issue.\n",
    "\n",
    "The root cause analysis was previously performed because the cause of the issue was documented a week ago."
   ]
  },
  {
   "cell_type": "markdown",
   "id": "12b17541",
   "metadata": {},
   "source": [
    "> A network administrator is configuring a series of virtual servers. The administrator provisions resources so that additional memory is available daily during a four-hour period. Which solution would best accommodate this provision?\n",
    "\n",
    "- Auto-scaling\n",
    "\n",
    "Horizontal scaling\n",
    "\n",
    "Cloud bursting\n",
    "\n",
    "VM templates\n",
    "\n",
    "\n",
    "***\n",
    "\n",
    "Auto-scaling adjusts the compute capabilities of ins~tances dynamically to match the current workload. Generally speaking, auto-scaling is for workloads that anticipate frequent changes.\n",
    "\n",
    "Horizontal scaling (also referred to as scaling out) provides additional servers (virtual or physical) to support a workload.\n",
    "\n",
    "Cloud bursting relies on a hybrid cloud model. If the private, on-premises cloud service becomes saturated, the workload can overflow into the public cloud. Using public cloud resources incurs costs, but such costs are better than poor or no service due to a lack of resources.\n",
    "\n",
    "VM templates reduce the confusion, misconfiguration, and cost associated with manually created VMs by providing standardized VM configurations."
   ]
  },
  {
   "cell_type": "markdown",
   "id": "feed1b8b",
   "metadata": {},
   "source": [
    "> An administrator is testing the deployment of a recent software update. The administrator would like to test the update from a single workstation with a premade configuration. What is the administrator most likely utilizing for this test?\n",
    "\n",
    "SDN\n",
    "\n",
    "Hyperconvergence\n",
    "\n",
    "Patch\n",
    "\n",
    "- Container\n",
    "\n",
    "\n",
    "***\n",
    "\n",
    "Containers are very lightweight virtualization tools that share a single OS and provide a single function. This makes them ideal for testing things like applications or other software features.\n",
    "\n",
    "A Software-Defined Network (SDN) manages network devices, providing greater flexibility than those achieved on a per-device configuration basis.\n",
    "\n",
    "With hyperconvergence, the compute, storage, and network resources are inseparable and managed as a single unit. This is in contrast to converged resources which the administrator can separate into their constituent parts.\n",
    "\n",
    "Vendors provide patches and other updates to address bugs or features within software and applications. Patch management, especially at the server level, is essential to ensure stability and security."
   ]
  },
  {
   "cell_type": "markdown",
   "id": "34d311ad",
   "metadata": {},
   "source": [
    "> A cloud technician receives complaints that an employee cannot access certain cloud resources. Which of the following troubleshooting steps should the technician try first?\n",
    "\n",
    "Document the findings\n",
    "\n",
    "Restart the cloud services\n",
    "\n",
    "- Check an account with the same permissions\n",
    "\n",
    "Establish a theory of probable cause\n",
    "\n",
    "\n",
    "***\n",
    "\n",
    "Checking an account with the same permissions to see if that account has problems is a good first step. This looks at two variables, availability of the service and account permissions.\n",
    "\n",
    "Documentation should be maintained throughout the service’s lifecycle, including during the troubleshooting process. You should first identify the scope of the problem, though.\n",
    "\n",
    "In some cases, restarting the cloud services might be part of the troubleshooting process. However, you should not restart services or servers without verifying that the problem is widespread.\n",
    "\n",
    "Establishing a theory of probable cause comes after determining the scope of the problem."
   ]
  },
  {
   "cell_type": "markdown",
   "id": "0375c041",
   "metadata": {},
   "source": [
    "> A server technician receives multiple complaints from users with varying permissions that a critical resource is inaccessible. What troubleshooting step should the technician perform next?\n",
    "\n",
    "Document the findings\n",
    "\n",
    "Restart the cloud services\n",
    "\n",
    "Check an account with similar permissions\n",
    "\n",
    "- Establish theory of probable cause\n",
    "\n",
    "\n",
    "***\n",
    "\n",
    "The technician has determined that the scope is widespread, so the next step is to establish a probable cause theory.\n",
    "\n",
    "Documentation should be maintained throughout the service’s lifecycle, including during the troubleshooting process. In this scenario, the next step is to establish a theory of probable cause.\n",
    "\n",
    "In some cases, restarting the cloud services might be part of the troubleshooting process. However, you should not restart services or servers before verifying if the problem is widespread.\n",
    "\n",
    "Checking an account with the same permissions to see if that account has problems is a good first step. However, the technician already received alerts from multiple users with varying permissions."
   ]
  },
  {
   "cell_type": "markdown",
   "id": "88bbfc54",
   "metadata": {},
   "source": [
    "> An organization has tasked a systems administrator with configuring a series of workstations that a technical team will operate. The administrator has concerns with availability failures due to lacking resources during high traffic windows. What can the administrator do to help preemptively address this?\n",
    "\n",
    "Hyperconverged networking\n",
    "\n",
    "Utilize a Type 1 hypervisor\n",
    "\n",
    "- Over-provision resources from idle servers\n",
    "\n",
    "Configure virtual switches\n",
    "\n",
    "\n",
    "***\n",
    "\n",
    "The administrator could over-provision the projected needed resources to help offset any dropoffs. Provisioning refers to the allocation of cloud resources in the overall enterprise infrastructure. The administrator should however consider the current functions of idle servers, as some may be deliberately maintained in a backup state.\n",
    "\n",
    "With hyperconvergence, the compute, storage, and network resources are inseparable and managed as a single unit. This is in contrast to converged resources which the administrator can separate into their constituent parts.\n",
    "\n",
    "Hypervisors manage virtual machines. A type 1 hypervisor will be installed directly onto the machine as a \"bare metal installation.\"\n",
    "\n",
    "While virtual switches provide traffic segmentation for virtual machines, they would not provide resource allocation. "
   ]
  },
  {
   "cell_type": "markdown",
   "id": "2a743422",
   "metadata": {},
   "source": [
    "> A server technician has been diligently troubleshooting a critical service that crashed. They isolated the issue and implemented a possible resolution. What next step should the technician perform?\n",
    "\n",
    "Implement preventative measures\n",
    "\n",
    "Perform a root cause analysis\n",
    "\n",
    "Establish a plan of action\n",
    "\n",
    "- Verify full system functionality\n",
    "\n",
    "\n",
    "***\n",
    "\n",
    "Once the potential solution has been implemented, the next phase is to test for functionality. Your goal is to ensure that the service or web application has returned to the established service levels.\n",
    "\n",
    "Implementing preventative measures comes after verifying full system functionality. It may be possible to preemptively reconfigure other services or network devices to avoid a repeat of the problem.\n",
    "\n",
    "Once service has been restored to your users, it is time to evaluate why the problem occurred. Identifying the root cause may permit you to avoid the problem in the future by changing processes or by implementing different technologies.\n",
    "\n",
    "Establishing a plan of action comes in the beginning during troubleshooting."
   ]
  },
  {
   "cell_type": "markdown",
   "id": "8222472d",
   "metadata": {},
   "source": [
    "> An administrator is configuring virtual servers for a help desk department. All servers will operate using virtualization and require the exact same level of compute power, memory, and applications. What would be the most efficient and consistent means of deploying the needed configurations?\n",
    "\n",
    "- VM templates\n",
    "\n",
    "SDN\n",
    "\n",
    "FaaS\n",
    "\n",
    "Patches\n",
    "\n",
    "\n",
    "***\n",
    "\n",
    "An administrator may deploy virtual machines using templates. VM Templates reduce the confusion, misconfiguration, and cost associated with manually created VMs by providing standardized VM configurations. Templates could quickly and consistently spin the workstations up.\n",
    "\n",
    "A software-defined network (SDN) manages network devices, providing greater flexibility than those achieved on a per-device configuration basis.\n",
    "\n",
    "Function as a Service (FaaS), or serverless computing, is a solution that offloads capacity planning, hardware, OS, and web server management tasks to the CSP. Examples include certain Azure functions and the Google Cloud App Engine.\n",
    "\n",
    "Vendors provide patches and other updates to address bugs or features within software and applications. Patch management, especially at the server level, is essential to ensure stability and security."
   ]
  },
  {
   "cell_type": "markdown",
   "id": "352f20e5",
   "metadata": {},
   "source": [
    "> A cloud administrator is troubleshooting a server that recently lost its connection to the network. The administrator presumes it to be a hardware failure from the NIC, as the device manager is showing an error and all reset efforts have failed. What is the next step according to the CompTIA troubleshooting methodology?\n",
    "\n",
    "Test the theory\n",
    "\n",
    "- Establish a plan\n",
    "\n",
    "Identify the problem\n",
    "\n",
    "Establish a theory of probable cause\n",
    "\n",
    "\n",
    "***\n",
    "\n",
    "The plan of action defines the steps to take, and the administrator should determine these steps ahead of time, as opposed to formulating them during the solution implementation.\n",
    "\n",
    "By investigating the wireless card, the administrator was testing the theory. If the problem was not the card, then the administrator would repeat step 2 of the troubleshooting process.\n",
    "\n",
    "The problem is apparent, as the connection to the network failed. The administrator kept working through the problem as this is the first step.\n",
    "\n",
    "The administrator established the theory when deciding to test the network interface card. The administrator had already satisfied this step."
   ]
  },
  {
   "cell_type": "markdown",
   "id": "a766e926",
   "metadata": {},
   "source": [
    "> A systems administrator responded to an important web service crashing. They analyzed logs to determine the issue, restarted the service, and were able to verify system functionality. What is the next step the administrator should take?\n",
    "\n",
    "- Implement preventative measures\n",
    "\n",
    "Perform a root cause analysis\n",
    "\n",
    "Establish a plan of action\n",
    "\n",
    "Determine scope of the problem\n",
    "\n",
    "\n",
    "***\n",
    "\n",
    "Implementing preventative measures comes after verifying full system functionality. It may be possible to preemptively reconfigure other services or network devices to avoid a repeat of the problem.\n",
    "\n",
    "Once service has been restored to your users, it is time to evaluate why the problem occurred. Identifying the root cause may permit you to avoid the problem in the future by changing processes or by implementing different technologies.\n",
    "\n",
    "Establishing a plan of action comes in the beginning during troubleshooting.\n",
    "\n",
    "Determining the scope of the problem comes at the very beginning of troubleshooting when the problem is first identified. "
   ]
  },
  {
   "cell_type": "markdown",
   "id": "5b25052f",
   "metadata": {},
   "source": [
    "> A user has lost account access to the cloud. The CSP dispatched a technician to address the issue. The technician diagnoses that the user’s account information expired and the technician needed to reset it. Following the reset, what should the technician do next?\n",
    "\n",
    "- Have the user test the login\n",
    "\n",
    "Determine why the incident occurred\n",
    "\n",
    "Decide how to best proceed forward\n",
    "\n",
    "Document findings\n",
    "\n",
    "\n",
    "***\n",
    "\n",
    "The user testing the new login credentials is performing a verification of the system's functionality. This is to ensure that the solution implementation worked as intended.\n",
    "\n",
    "Determining the root cause of the issue functions as a later step in the troubleshooting model. Since this incident is a fairly common occurrence, the technician would not need to further investigate.\n",
    "\n",
    "The technician has already implemented the solution, therefore establishing a plan of action has already taken place.\n",
    "\n",
    "The technician will eventually need to document findings, actions, and outcomes. However, this is the final step of the troubleshooting process."
   ]
  },
  {
   "cell_type": "markdown",
   "id": "e998c7c8",
   "metadata": {},
   "source": [
    "> A cloud administrator just joined a new organization and is attempting to implement a common service. Which of the following would best help them implement the service?\n",
    "\n",
    "SLAs\n",
    "\n",
    "Cloud policies\n",
    "\n",
    "- SOPs\n",
    "\n",
    "Playbooks\n",
    "\n",
    "\n",
    "***\n",
    "\n",
    "Standard Operating Procedures (``SOP``) govern how particular tasks are to be accomplished, and such procedures should be followed during troubleshooting. SOPs are created for common tasks.\n",
    "\n",
    "Service-level agreements (SLAs) might enforce penalties on your organization for service outages. Also, cloud service providers have SLAs backing their service availability.\n",
    "\n",
    "Cloud policies govern how the organization interacts with cloud resources. In terms of troubleshooting, these policies manage case escalation.\n",
    "\n",
    "Playbooks were associated with Ansible for automation. Ansible is a declarative orchestration tool that uses YAML files called Ansible playbooks to define the desired configuration. "
   ]
  },
  {
   "cell_type": "markdown",
   "id": "92673b85",
   "metadata": {},
   "source": [
    "> When configuring a network storage system for a company-wide function, which document should serve as a primary reference to effectively manage the project while also remaining compliant with company policy?\n",
    "\n",
    "Service manual\n",
    "\n",
    "Workflow diagram\n",
    "\n",
    "- Operating procedures\n",
    "\n",
    "Change management\n",
    "\n",
    "\n",
    "***\n",
    "\n",
    "Standard Operating Procedures (``SOP``) document detailed instructions for task completion. These instructions are clear enough for all organizational members to follow and produce consistent results. Administrators should always consult the SOPs when performing operational tasks.\n",
    "\n",
    "Service manuals provide equipment documentation, including physical specifications, diagrams, component details, and safety considerations. In recent years, most manuals are in an electronic format and available at the vendor’s website.\n",
    "\n",
    "Workflow diagrams provide a visual reference for following business processes over time. Workflow diagrams automate business processes for efficiency and consistency.\n",
    "\n",
    "Change management provides a standardized approach to making and tracking changes within an organization. This includes updates, fixes, and testing procedures."
   ]
  },
  {
   "cell_type": "markdown",
   "id": "9c1d1ab2",
   "metadata": {},
   "source": [
    "> If a CSP were to experience a significant service outage that resulted in organizational revenue losses, which document would assist the organization in determining the eligibility for a reduction in service fees?\n",
    "\n",
    "SOP\n",
    "\n",
    "- SLA\n",
    "\n",
    "MTTR\n",
    "\n",
    "EOL\n",
    "\n",
    "\n",
    "***\n",
    "\n",
    "A Service Level Agreement (``SLA``) defines service requirements and expectations between a CSP and its customers. A service provider failing to uphold a contractual agreement could result in a claim for compensation for lost revenue.\n",
    "\n",
    "Standard Operating Procedures (SOP) document detailed instructions for task completion. These instructions are clear enough for all to follow and produce consistent results. Administrators should consult SOPs when performing operational tasks.\n",
    "\n",
    "The Mean Time To Recovery (MTTR) measures the average time the organization takes to restore normal operations after an incident. It is useful for informing SLAs since it provides an evidence-based estimate for recovery time.\n",
    "\n",
    "When a product has reached its End Of Life (EOL), it typically stops receiving support or updates. "
   ]
  },
  {
   "cell_type": "markdown",
   "id": "60ab0eaf",
   "metadata": {},
   "source": [
    "> When following the troubleshooting methodology, which step takes place after establishing an action plan but before verifying that function has returned to the system?\n",
    "\n",
    "Implement preventative measures\n",
    "\n",
    "Test the theory\n",
    "\n",
    "Perform a root cause analysis\n",
    "\n",
    "- Implement the solution or escalate\n",
    "\n",
    "\n",
    "***\n",
    "\n",
    "Solution implementation describes following the plan of action. An administrator should make changes and test them, one at a time, to assist with narrowing down the solution.\n",
    "\n",
    "It may be possible to preemptively reconfigure other services or network devices to avoid a repeat of the problem by leveraging prior solutions preemptively. This takes place after system functionality verification.\n",
    "\n",
    "Testing the theory takes place by assessing the probable cause and by problem identification. The goal is to confirm the problem and move toward a solution.\n",
    "\n",
    "Identifying the root cause may permit avoiding the problem in the future by changing processes or by implementing different technologies."
   ]
  },
  {
   "cell_type": "markdown",
   "id": "2cc20932",
   "metadata": {},
   "source": [
    "***\n",
    "## END"
   ]
  },
  {
   "cell_type": "markdown",
   "id": "e0e42d51",
   "metadata": {},
   "source": [
    "< [Table of Contents](#top) >\n",
    "<a id=\"references\"></a>\n",
    "***\n",
    "## References\n",
    "***"
   ]
  },
  {
   "cell_type": "markdown",
   "id": "757bf6de",
   "metadata": {},
   "source": [
    "&nbsp;&nbsp;&nbsp;&nbsp;&nbsp;&nbsp;&nbsp;&nbsp;&nbsp;CompTIA, \"Official CompTIA Cloud Student Guide/Exam,\" [comptia.org](https://www.comptia.org/certifications/cloud), n.d..\n",
    "\n",
    "&nbsp;&nbsp;&nbsp;&nbsp;&nbsp;&nbsp;&nbsp;&nbsp;&nbsp;ExamTopics, \"CompTIA Cloud+,\" [examtopics.com](https://www.examtopics.com/exams/comptia/cv0-003/), n.d.."
   ]
  },
  {
   "cell_type": "markdown",
   "id": "b33c372a",
   "metadata": {},
   "source": [
    "***\n",
    "## END"
   ]
  },
  {
   "cell_type": "markdown",
   "id": "e5961b4d",
   "metadata": {},
   "source": [
    "< [Table of Contents](#top) | [References](#references) >\n",
    "<a id=\"appendix\"></a>\n",
    "***\n",
    "## Appendix\n",
    "***"
   ]
  },
  {
   "cell_type": "markdown",
   "id": "00d82a82",
   "metadata": {},
   "source": [
    "***\n",
    "## END"
   ]
  },
  {
   "cell_type": "code",
   "execution_count": 1,
   "id": "706756a2",
   "metadata": {},
   "outputs": [
    {
     "data": {
      "text/html": [
       "<style>.container { width:100% !important; }</style>"
      ],
      "text/plain": [
       "<IPython.core.display.HTML object>"
      ]
     },
     "metadata": {},
     "output_type": "display_data"
    }
   ],
   "source": [
    "from IPython.display import display,HTML\n",
    "display(HTML(\"<style>.container { width:100% !important; }</style>\"))"
   ]
  },
  {
   "cell_type": "markdown",
   "id": "899c1783",
   "metadata": {},
   "source": [
    "# END JUPYTER NOTEBOOK"
   ]
  }
 ],
 "metadata": {
  "kernelspec": {
   "display_name": "Python 3 (ipykernel)",
   "language": "python",
   "name": "python3"
  },
  "language_info": {
   "codemirror_mode": {
    "name": "ipython",
    "version": 3
   },
   "file_extension": ".py",
   "mimetype": "text/x-python",
   "name": "python",
   "nbconvert_exporter": "python",
   "pygments_lexer": "ipython3",
   "version": "3.9.12"
  }
 },
 "nbformat": 4,
 "nbformat_minor": 5
}
